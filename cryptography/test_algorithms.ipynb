{
 "cells": [
  {
   "attachments": {},
   "cell_type": "markdown",
   "metadata": {},
   "source": [
    "Here, we will observe 5 encryption systems:\n",
    "1. RSA (Rivest–Shamir–Adleman)\n",
    "2. Rabin cryptosystem\n",
    "3. Digital Signature Algorithm (DSA)\n",
    "4. ElGamal encryption system\n",
    "5. Elliptic-curve cryptography (ECC)"
   ]
  },
  {
   "attachments": {},
   "cell_type": "markdown",
   "metadata": {},
   "source": [
    "Let's begin with RSA(Rivest–Shamir–Adleman):"
   ]
  },
  {
   "attachments": {},
   "cell_type": "markdown",
   "metadata": {},
   "source": [
    "RSA (Rivest-Shamir-Adleman) is a widely used cryptographic algorithm that is named after its inventors. RSA has widespread use in various applications, including secure communication protocols like SSL/TLS, secure email, digital certificates, secure file transfer, and secure remote access. "
   ]
  },
  {
   "cell_type": "code",
   "execution_count": 38,
   "metadata": {},
   "outputs": [
    {
     "name": "stdout",
     "output_type": "stream",
     "text": [
      "Collecting tqdm\n",
      "  Downloading tqdm-4.65.0-py3-none-any.whl (77 kB)\n",
      "\u001b[2K     \u001b[90m━━━━━━━━━━━━━━━━━━━━━━━━━━━━━━━━━━━━━━━━\u001b[0m \u001b[32m77.1/77.1 kB\u001b[0m \u001b[31m51.4 kB/s\u001b[0m eta \u001b[36m0:00:00\u001b[0ma \u001b[36m0:00:01\u001b[0m\n",
      "\u001b[?25hInstalling collected packages: tqdm\n",
      "Successfully installed tqdm-4.65.0\n"
     ]
    }
   ],
   "source": [
    "!pip install tqdm"
   ]
  },
  {
   "cell_type": "code",
   "execution_count": 39,
   "metadata": {},
   "outputs": [],
   "source": [
    "from sympy import randprime\n",
    "import math\n",
    "import random\n",
    "from random import randint\n",
    "from PIL import Image\n",
    "import numpy as np\n",
    "from tinyec import registry\n",
    "from Crypto.Cipher import AES\n",
    "import hashlib, secrets, binascii\n",
    "import secrets\n",
    "import time\n",
    "from tqdm import tqdm\n",
    "import matplotlib.pyplot as plt"
   ]
  },
  {
   "cell_type": "code",
   "execution_count": 43,
   "metadata": {},
   "outputs": [],
   "source": [
    "def power(number, power_num, modulo):\n",
    "    \"\"\"\n",
    "    >>> power(15, 98, 17)\n",
    "    4\"\"\"\n",
    "    result = 1\n",
    "    temp_var = number % modulo\n",
    "    while power_num > 0:\n",
    "        if power_num % 2:\n",
    "            result = (result * temp_var) % modulo\n",
    "        temp_var = (temp_var * temp_var) % modulo\n",
    "        power_num = power_num >> 1\n",
    "    return result % modulo\n",
    "\n",
    "class RSA:\n",
    "    \"\"\"Rsa algorithm for encryption\"\"\"\n",
    "    def __init__(self, bits):\n",
    "        self._public_key, self._private_key = self.keys_generator(bits)\n",
    "\n",
    "    def get_public(self):\n",
    "        \"\"\"Get public key\"\"\"\n",
    "        return self._public_key\n",
    "\n",
    "    def get_private(self):\n",
    "        \"\"\"Get private key\"\"\"\n",
    "        return self._private_key\n",
    "\n",
    "    def eq_encrypt_decrypt(self, message):\n",
    "        \"\"\"Check if message and decrypt message is equal\"\"\"\n",
    "        encrypt = self.encrypt_message(message)\n",
    "        decrypt = self.decrypt_message(encrypt)\n",
    "        return message == decrypt\n",
    "\n",
    "\n",
    "    def keys_generator(self, bits = 256):\n",
    "        \"\"\"Generate public and private key for rsa algorithm\"\"\"\n",
    "        if bits not in [32, 64, 128, 256, 512, 1024, 2048]:\n",
    "            raise ValueError('Value of bits must be power of 2 from 32 to 2048')\n",
    "        ceil, floor = 2 ** (bits//2), 2 ** (bits//2 + 1)\n",
    "        prime_1 = randprime(ceil, floor)\n",
    "        prime_2 = randprime(ceil, floor)\n",
    "        prime_product = prime_1 * prime_2\n",
    "        phi = (prime_1 - 1) * (prime_2 - 1)\n",
    "        public = random.randint(1, phi)\n",
    "        while math.gcd(public, phi) != 1:\n",
    "            public = random.randint(1, phi)\n",
    "        private = pow(public, -1, phi)\n",
    "        return ((public, prime_product), (private, prime_product))\n",
    "\n",
    "    def encrypt_message(self, message):\n",
    "        \"\"\"Encrypt message using private key\"\"\"\n",
    "        encrypt = []\n",
    "        for char in message:\n",
    "            own_add = power(ord(char), self._public_key[0], self._public_key[1])\n",
    "            encrypt.append(own_add)\n",
    "        return encrypt\n",
    "\n",
    "    def decrypt_message(self, encrypt_message):\n",
    "        \"\"\"Decrypt message using private key\"\"\"\n",
    "        decrypted = []\n",
    "        for elem in encrypt_message:\n",
    "            decrypt_num = power(elem, self._private_key[0], self._private_key[1])\n",
    "            decrypted.append(chr(decrypt_num))\n",
    "        return ''.join(decrypted)\n"
   ]
  },
  {
   "attachments": {},
   "cell_type": "markdown",
   "metadata": {},
   "source": [
    "At first, let's check it on 32-bytes integers:"
   ]
  },
  {
   "cell_type": "code",
   "execution_count": 14,
   "metadata": {},
   "outputs": [
    {
     "name": "stdout",
     "output_type": "stream",
     "text": [
      "Public key - (4751620985, 7418624093)\n",
      "\n",
      "Private key - (4439720669, 7418624093)\n",
      "\n",
      "Encrypt message - [1496779685, 1620542201, 3298656922, 3298656922, 5549589489, 4745867272, 5557179510, 5908173137, 5549589489, 5557179510, 3276969733, 5549589489, 6939027817, 5557179510, 2850053918, 829899365, 1185378981, 1185378981, 829899365, 5557179510, 1199733434, 829899365, 3298656922, 6618306245, 5557179510, 829899365, 992867669, 5549589489, 6939027817, 1199733434, 5557179510, 556385045, 5549589489, 3339059381, 1620542201, 1199733434, 1496779685, 4619610136, 1185378981, 4005227443, 3976186529]\n",
      "\n",
      "Decrypt message - hello, do you wanna talk about something?\n",
      "\n",
      "True\n"
     ]
    }
   ],
   "source": [
    "rsa = RSA(32)\n",
    "message = 'hello, do you wanna talk about something?'\n",
    "print(f\"Public key - {rsa.get_public()}\\n\")\n",
    "print(f\"Private key - {rsa.get_private()}\\n\")\n",
    "encrypt = rsa.encrypt_message(message)\n",
    "print(f\"Encrypt message - {encrypt}\\n\")\n",
    "decrypt = rsa.decrypt_message(encrypt)\n",
    "print(f'Decrypt message - {decrypt}\\n')\n"
   ]
  },
  {
   "attachments": {},
   "cell_type": "markdown",
   "metadata": {},
   "source": [
    "Now let's checkon 2048-bytes"
   ]
  },
  {
   "cell_type": "code",
   "execution_count": 15,
   "metadata": {},
   "outputs": [
    {
     "name": "stdout",
     "output_type": "stream",
     "text": [
      "Public key - (14747086855933595247840909584271801048105730371848607689976792941782184288043076874230392736931738643891239070002032295218973885953360886132796845920651453285775732336598156836545885212959658064324108157903432335507790115490401505157653756051024900956972475322568444464618758688146597693947129304410644206182252074339010508125745492580704244783613519179017203158404461764586573054702537580023574030850182742307077304352861766249539252306544998417517144378947176044691541471533819768614800120584858769692472215130093542308054541606916514276574648936065731710748485591837977993486533163351885456939302821084427869349003, 54797017576961556496498169897866136878987510835347955837999881701874848748531338513225129400880702508180153419652662171873075095175460442098826245653031318119964738132262872696559847256465341236233866627341270591620963572061606860593492967219695483739324879394161576989529532260067865996154746471013685195438204356889506860024844562718263876868162941071456512873617992083830244773434043026966529763955716585771372701353383654530652020836787311049306785061972151231603134165278800440997869325623198987177311971697647237907902926731085600969642095226816380282143336820981018695525704736008194959134786649094876785215769)\n",
      "\n",
      "Private key - (32034631563567849808449795231085837834059525188250539699740239105302306726922395295438553516003029625469631689370391562456673268627530723307997362827619976520498831698678337119480987920572319254531899339458832418859183800041596243249015439630206934158573508060808983165197513794981357488845479057999850193366709185797070690223065310796418054398881734751546399830776892212031141252638820068547485115864759569042669032715795959762216562227673053231718868793347444291105492567678702246510093227403180180111083293741072198479079182899177417875652198441641090643437195914167214667099975125304551401202581709243189434055759, 54797017576961556496498169897866136878987510835347955837999881701874848748531338513225129400880702508180153419652662171873075095175460442098826245653031318119964738132262872696559847256465341236233866627341270591620963572061606860593492967219695483739324879394161576989529532260067865996154746471013685195438204356889506860024844562718263876868162941071456512873617992083830244773434043026966529763955716585771372701353383654530652020836787311049306785061972151231603134165278800440997869325623198987177311971697647237907902926731085600969642095226816380282143336820981018695525704736008194959134786649094876785215769)\n",
      "\n",
      "Encrypt message - [36868960163440492139866277188846528482190168060610100495816538357989081693059259380747551856978466663230484866263222593968222917079624609165066670966351074835909822591068496396918176191813112346762822969931753745790045054130974135632625669970996682324183113122196275668423746342794739514163235929992842301994158072025622259817757595740851956339985252657925769886151055347049198341220209793890571679151845442441619014511402370074004797582246035892675007446726719400890194899618313548818076381241744289966075593813736831273349272646659334710641723750738045454165702722177375764049344160096747576302385155987006955230757, 18096687080874710904547473203892289304299726964706294049278284295980392324158933759441841105992809130320000831175386827850414897871557265622725668341845141255563390849173088358894179316775466728635210132589447326326612619992634520469540840816583276546920368715409612375981066003006672802387515023211057006017720325268619738622188504773423189532663368296224075210306183430650743473950076924237898760076252503109785741523161122522257045459453416278129971009788490553880006173832929238923945017555889203150274254093043066257365492475024165008605164416608359216112758550643583644931728844878435274081675992674130319121297, 23928925799459472041979555903685203820003068702877930466326976537714888943845747168039335809009015130743043674747545573637641576641153166298000286877752372183675944315018121042648355879894022580284915035586438499898707851805161776035935307302285200942552651900805451486718444549956678767539156269777587866360043202403751870657428700843272146338247402916292079040029125176948040824242517982558228632388981842387584255226395804495118258758886912252019226213883070693694597845975637019537832349751296207220257967993751524299666994816484861100786964835342135087200827214435916679712788575705673871745128785345430042408877, 23928925799459472041979555903685203820003068702877930466326976537714888943845747168039335809009015130743043674747545573637641576641153166298000286877752372183675944315018121042648355879894022580284915035586438499898707851805161776035935307302285200942552651900805451486718444549956678767539156269777587866360043202403751870657428700843272146338247402916292079040029125176948040824242517982558228632388981842387584255226395804495118258758886912252019226213883070693694597845975637019537832349751296207220257967993751524299666994816484861100786964835342135087200827214435916679712788575705673871745128785345430042408877, 24226994110047237120595010833872672415246330564484916526767098793803087059467287634882043945299851238607767857203137064962733622598511624491103609976702292523899413376776065926007007541370879591128889521393303776480099671405841588458414512842024961693605397478920767460906736046255609869546456076086590261359518933189173583705147387187001376306374798541057518432870871530819656375290127096052060275176358716738940902491867600254506039960986810216083469262522269422289917994476237054979624140022514280196235326263042042082610902078687745064440363394799291568494984836833377357631540989837652674268925368967407144666229]\n",
      "\n",
      "Decrypt message - hello\n",
      "\n"
     ]
    }
   ],
   "source": [
    "rsa = RSA(2048)\n",
    "message = 'hello'\n",
    "print(f\"Public key - {rsa.get_public()}\\n\")\n",
    "print(f\"Private key - {rsa.get_private()}\\n\")\n",
    "encrypt = rsa.encrypt_message(message)\n",
    "print(f\"Encrypt message - {encrypt}\\n\")\n",
    "decrypt = rsa.decrypt_message(encrypt)\n",
    "print(f'Decrypt message - {decrypt}\\n')"
   ]
  },
  {
   "attachments": {},
   "cell_type": "markdown",
   "metadata": {},
   "source": [
    "What's the idea here? We begin with generating two keys - public and private. Both of them are tuples which includes prime_product - product of the prime numbers in given bytes range. Public key is a random number of phi function(Eiler's)'s product of this two numbers, and private key is the inverse of this number by given module."
   ]
  },
  {
   "attachments": {},
   "cell_type": "markdown",
   "metadata": {},
   "source": [
    "Second algorithm is Rabin Cryptosystem:"
   ]
  },
  {
   "attachments": {},
   "cell_type": "markdown",
   "metadata": {},
   "source": [
    "The Rabin cryptosystem is a public-key encryption algorithm developed by Michael Rabin in 1979. The Rabin cryptosystem is considered an asymmetric encryption scheme, meaning it uses different keys for encryption and decryption. The Rabin cryptosystem has been used in various applications, including digital signatures, key exchange protocols, and secure communications. However, it is less widely used compared to other encryption algorithms like RSA, which also rely on the difficulty of factoring."
   ]
  },
  {
   "cell_type": "code",
   "execution_count": 44,
   "metadata": {},
   "outputs": [],
   "source": [
    "def n_bit_random(bitsize):\n",
    "    \"\"\" Generates random integer with particular bitsize \"\"\"\n",
    "    return randint(2**bitsize, 2**(bitsize + 1))\n",
    "\n",
    "\n",
    "def is_miller_rabin_passed(miller_rabin_candidate):\n",
    "    '''Run 200 iterations of Rabin Miller Primality test'''\n",
    "\n",
    "    maxDivisionsByTwo = 0\n",
    "    evenComponent = miller_rabin_candidate-1\n",
    "\n",
    "    while evenComponent % 2 == 0:\n",
    "        evenComponent >>= 1\n",
    "        maxDivisionsByTwo += 1\n",
    "    assert(2**maxDivisionsByTwo * evenComponent == miller_rabin_candidate-1)\n",
    "\n",
    "    def trialComposite(round_tester):\n",
    "        if pow(round_tester, evenComponent,\n",
    "            miller_rabin_candidate) == 1:\n",
    "            return False\n",
    "        for i in range(maxDivisionsByTwo):\n",
    "            if pow(round_tester, 2**i * evenComponent,\n",
    "                miller_rabin_candidate) == miller_rabin_candidate-1:\n",
    "                return False\n",
    "        return True\n",
    "\n",
    "    # Set number of trials here\n",
    "    numberOfRabinTrials = 200\n",
    "    for i in range(numberOfRabinTrials):\n",
    "        round_tester = random.randrange(2,\n",
    "                    miller_rabin_candidate)\n",
    "        if trialComposite(round_tester):\n",
    "            return False\n",
    "    return True\n",
    "\n",
    "def generate_key(bitsize):\n",
    "    \"\"\" Generate key which = 3mod4 and is prime with paricular bitsize \"\"\"\n",
    "    while True:\n",
    "        number = randprime(2**bitsize, 2**(bitsize + 1))\n",
    "        if number % 4 == 3:\n",
    "            return number\n",
    "\n",
    "def coeffs_gcd_extended(number1 , number2):\n",
    "    \"\"\" Coeff using Euclide Algorithm \"\"\"\n",
    "    number1_save = number1\n",
    "    number2_save = number2\n",
    "\n",
    "    full_part = []\n",
    "\n",
    "    while True:\n",
    "        n_1 = max(number1, number2)\n",
    "        n_2 = min(number1, number2)\n",
    "\n",
    "        result = n_1 % n_2\n",
    "        full_part.append(n_1 // n_2)\n",
    "\n",
    "        if n_1 % n_2 == 0:\n",
    "            break\n",
    "\n",
    "        if number1 == n_1:\n",
    "            number1 = result\n",
    "            continue\n",
    "        number2 = result\n",
    "\n",
    "    s_0 = 1\n",
    "    s_1 = 0\n",
    "    t_0 = 0\n",
    "    t_1 = 1\n",
    "\n",
    "    index = 0\n",
    "    while index != len(full_part) - 1:\n",
    "\n",
    "        s_next = s_0 - full_part[index] * s_1\n",
    "        s_0 = s_1\n",
    "        s_1 = s_next\n",
    "\n",
    "        t_next = t_0 - full_part[index] * t_1\n",
    "        t_0 = t_1\n",
    "        t_1 = t_next\n",
    "\n",
    "        index += 1\n",
    "\n",
    "    if number1_save < number2_save and abs(s_next) > abs(t_next):\n",
    "        return s_next, t_next\n",
    "    if number1_save > number2_save and abs(s_next) < abs(t_next):\n",
    "        return s_next, t_next\n",
    "    if number1_save < number2_save and abs(s_next) < abs(t_next):\n",
    "        return t_next, s_next\n",
    "    return t_next, s_next\n",
    "\n",
    "\n",
    "class RabinCryptography:\n",
    "    \"\"\" Rabin Cryptography \"\"\"\n",
    "    def generate_keys(self, bits):\n",
    "        \"\"\" Generates two numbers which satisfies condition p, q = 3mod(4)\"\"\"\n",
    "        self.__q_var = generate_key(bits)  #private key\n",
    "        self.__p_var = generate_key(bits)  #private key\n",
    "        while self.__p_var == self.__q_var:\n",
    "            self.__q_var = generate_key(bits)\n",
    "\n",
    "        return self.__q_var * self.__p_var\n",
    "\n",
    "    def __init__(self, bits) -> None:\n",
    "        self.n_var = self.generate_keys(bits)  #public key\n",
    "\n",
    "    @staticmethod\n",
    "    def encode(key, message):\n",
    "        \"\"\" Encode message with passed key \"\"\"\n",
    "        send_coded = []\n",
    "\n",
    "        for symbol in message:\n",
    "            if isinstance(symbol, str):\n",
    "                ord_symbol = ord(symbol)\n",
    "            else:\n",
    "                ord_symbol = symbol\n",
    "            bin_symbol = bin(ord_symbol)[2:] * 2\n",
    "            new_ord = int(bin_symbol, 2)\n",
    "            new_bin = power(new_ord, 2, key)\n",
    "            send_coded.append(new_bin)\n",
    "\n",
    "        return send_coded\n",
    "\n",
    "    def decode(self, message, image = False):\n",
    "        \"\"\" Decode message using key and codded message \"\"\"\n",
    "        line = \"\"\n",
    "\n",
    "        for symbol in message:\n",
    "            m_p_var = power(symbol, (1 + self.__p_var) // 4, self.__p_var)\n",
    "            m_q_var = power(symbol, (1 + self.__q_var) // 4, self.__q_var, )\n",
    "\n",
    "\n",
    "            m_p_var_1 = self.__p_var - m_p_var\n",
    "            m_q_var_1 = self.__q_var - m_q_var\n",
    "\n",
    "            a_var, b_var = coeffs_gcd_extended(self.__p_var, self.__q_var)\n",
    "\n",
    "            roots = []\n",
    "\n",
    "            root_1 = (a_var * self.__p_var * m_q_var +\\\n",
    "                      b_var * self.__q_var * m_p_var) %\\\n",
    "                        (self.n_var)\n",
    "\n",
    "            root_2 = (a_var * self.__p_var * m_q_var_1 +\\\n",
    "                      b_var * self.__q_var * m_p_var_1) %\\\n",
    "                        (self.n_var)\n",
    "\n",
    "            root_3 = (a_var * self.__p_var * m_q_var_1 +\\\n",
    "                      b_var * self.__q_var * m_p_var) %\\\n",
    "                        (self.n_var)\n",
    "            root_4 = (a_var * self.__p_var * m_q_var +\\\n",
    "                      b_var * self.__q_var * m_p_var_1) %\\\n",
    "                        (self.n_var)\n",
    "\n",
    "            roots.append(bin(root_1)[2:])\n",
    "            roots.append(bin(root_2)[2:])\n",
    "            roots.append(bin(root_3)[2:])\n",
    "            roots.append(bin(root_4)[2:])\n",
    "\n",
    "            for root in roots:\n",
    "                if len(root) % 2:\n",
    "                    continue\n",
    "                half = len(root) // 2\n",
    "                if root[:half] == root[half:]:\n",
    "                    if image:\n",
    "                        line += str(int(root[:half], 2))\n",
    "                    else:\n",
    "                        line += chr(int(root[:half], 2))\n",
    "                    break\n",
    "        return line\n"
   ]
  },
  {
   "cell_type": "code",
   "execution_count": 36,
   "metadata": {},
   "outputs": [
    {
     "name": "stdout",
     "output_type": "stream",
     "text": [
      "Public key: 95326151451425446903600078507523389467201525468247166699971102073471833710581501444980914039660230234180865596038661298846667691973113971824060163108442055245044756377011557216138744859290258631233989021694451506488813914832342191556654539182011900728480803579445819228530159065344682483165543135043525889201777283500174279362069323033223491338806731185217045259840050137257848861157766266724889946515169313595444628848855364387295521107837135465037131159639780535594824228090532745370439819106888723298803992655915703478980723998508061163799664360921771266240266044037182592465004299691827371100404130219518315695601\n",
      "Encoded message:\n",
      "[86266944, 205033761, 235653201, 4326400, 243640881, 205033761, 227798649, 4326400, 166410000, 205033761, 183467025, 201356100, 176544369, 4326400, 159820164, 216266436, 205033761, 16769025, 4326400, 86266944, 156575169, 220077225, 4326400, 220077225, 205033761, 197711721, 169754841, 4326400, 201356100, 169754841, 235653201, 220077225, 16769025]\n",
      "Decode back:\n",
      "True\n"
     ]
    }
   ],
   "source": [
    "rabin = RabinCryptography(1024)\n",
    "message = 'How you doing bro? Has some news?'\n",
    "print(\"Public key: \" + str(rabin.n_var))\n",
    "encoded = rabin.encode(rabin.n_var, message)\n",
    "print('Encoded message:')\n",
    "print(encoded)\n",
    "print('Decode back:')\n",
    "decoded = rabin.decode(encoded)\n",
    "print(decoded == message)"
   ]
  },
  {
   "attachments": {},
   "cell_type": "markdown",
   "metadata": {},
   "source": [
    "The main idea here is that we generate public key and private key. Public key is s product of two private keys(by default 50 bytes). The encoding is simple - we just take a binary representation of each symbol's ascii and take a module of it's square to our key."
   ]
  },
  {
   "attachments": {},
   "cell_type": "markdown",
   "metadata": {},
   "source": [
    "Third encryption system is Digital Signature Algorithm (DSA). The Digital Signature Algorithm (DSA) is a widely used public-key cryptographic algorithm for generating and verifying digital signatures. It was developed by the National Institute of Standards and Technology (NIST) in the United States and published as a federal standard in 1994. DSA is commonly used for digital signatures in various applications, including secure communications, electronic transactions, software distribution, and authentication protocols. It provides a means for verifying the authenticity and integrity of digital data."
   ]
  },
  {
   "attachments": {},
   "cell_type": "markdown",
   "metadata": {},
   "source": [
    "Let's check how it works:"
   ]
  },
  {
   "cell_type": "code",
   "execution_count": 45,
   "metadata": {},
   "outputs": [],
   "source": [
    "def gcdExtended(a, b):\n",
    "    \"\"\" Extended GCD Anlgorith \"\"\"\n",
    "    # Base Case\n",
    "    if a == 0:\n",
    "        return b, 0, 1\n",
    "\n",
    "    gcd, x1, y1 = gcdExtended(b % a, a)\n",
    "\n",
    "    # Update x and y using results of recursive\n",
    "    # call\n",
    "    x = y1 - (b // a) * x1\n",
    "    y = x1\n",
    "\n",
    "    return gcd, x, y\n",
    "\n",
    "class DSA():\n",
    "    \"\"\" Digital Signature Algorithm \"\"\"\n",
    "    def __init__(self) -> None:\n",
    "        self.public, self.__private = self.keys()\n",
    "\n",
    "    def add_signature(self, message):\n",
    "        \"\"\" Adds digital signature to message\n",
    "           and returns the same message with signature\"\"\"\n",
    "        val_p,val_q, val_g, val_x = self.__private\n",
    "        hash_of_object = int(hashlib.sha1(message.encode()).hexdigest(), 16)\n",
    "\n",
    "        coeff = random.randint(0, val_q - 1)\n",
    "\n",
    "        val_r = (((val_g**coeff) % val_p)) % val_q\n",
    "\n",
    "        val_s = ((gcdExtended(coeff, val_q)[1]) *\\\n",
    "                 (hash_of_object + val_x * val_r)) % val_q\n",
    "        return message, val_r, val_s\n",
    "\n",
    "    def verify_signature(self, message_sign, public_key):\n",
    "        \"\"\" Vetify signature and return True if valid and False if not \"\"\"\n",
    "        message, val_r, val_s = message_sign\n",
    "        val_p,val_q, val_g, val_y = public_key\n",
    "        hased_image = int(hashlib.sha1(message.encode()).hexdigest(), 16)\n",
    "\n",
    "        a_1 = (hased_image * gcdExtended(val_s, val_q)[1]) % val_q\n",
    "        a_2 = (gcdExtended(val_s, val_q)[1] * val_r) % val_q\n",
    "        value = (((val_g**a_1) * (val_y**a_2)) % val_p) % val_q\n",
    "        if value == val_r:\n",
    "            return True\n",
    "        return False\n",
    "\n",
    "    def keys(self):\n",
    "        \"\"\" Generates public and pivate keys \"\"\"\n",
    "        val_p = 1531447\n",
    "        val_q = 5209\n",
    "        val_h = 2\n",
    "        val_g = int((val_h ** ((val_p - 1) / val_q)) % val_p)\n",
    "        val_x = random.randint(0, val_q - 1)\n",
    "        val_y = (val_g ** val_x) % val_p\n",
    "\n",
    "        return [[val_p, val_q, val_g, val_y],\n",
    "                 [val_p,val_q, val_g, val_x]]"
   ]
  },
  {
   "cell_type": "code",
   "execution_count": 46,
   "metadata": {},
   "outputs": [],
   "source": [
    "def power(number, power_num, modulo):\n",
    "    \"\"\"\n",
    "    >>> power(15, 98, 17)\n",
    "    4\"\"\"\n",
    "    result = 1\n",
    "    temp_var = number % modulo\n",
    "\n",
    "    while power_num > 0:\n",
    "        if power_num % 2:\n",
    "            result = (result * temp_var) % modulo\n",
    "        temp_var = (temp_var * temp_var) % modulo\n",
    "        power_num = power_num >> 1\n",
    "\n",
    "    return result % modulo\n",
    "\n",
    "class EIG:\n",
    "    \"\"\"\n",
    "    Class for ElGamal Encryption Algorithm\"\"\"\n",
    "    def __init__(self, bits):\n",
    "        self._public_key, self._private_key = self.generate_keys(bits)\n",
    "        self._large_number = self._public_key[1]\n",
    "\n",
    "    def get_public(self):\n",
    "        \"\"\"Return public key\"\"\"\n",
    "        return self._public_key\n",
    "\n",
    "    def get_private(self):\n",
    "        \"\"\"Return private key\"\"\"\n",
    "        return self._private_key\n",
    "\n",
    "    def get_largenumber(self):\n",
    "        \"\"\"Return large number, that was generated\"\"\"\n",
    "        return self._large_number\n",
    "\n",
    "    def equal_encrypt_orig(self, message):\n",
    "        \"\"\"Check equalence of message and its decryption\"\"\"\n",
    "        encrypt, p = self.encrypt_message(message, *self._public_key)\n",
    "\n",
    "        decrypt = self.decrypt_message(encrypt, p, self.get_private(), self._large_number)\n",
    "        return message == decrypt\n",
    "\n",
    "    def generate_keys(self, bits):\n",
    "        \"\"\"Generate key for encryption\n",
    "        Generate q = large number in size of bits variable\n",
    "        Also generate g = range(1, q), which is basis for all power raising,\n",
    "        a = range(1, q), gcd(a, q) = 1, a is a private key\n",
    "        h = g^a(mod q)\n",
    "        return public key = (h, q, g) and private key = a\n",
    "        \"\"\"\n",
    "\n",
    "        large_number = random.randint(2**bits, 2**(bits + 1)) #generate random large number in size of bits variable\n",
    "        g = random.randint(1, large_number) #generate random number from 1 to large number (g)\n",
    "\n",
    "        key = random.randint(1, large_number) #also generate random number, its gcd with large number must be equal to 1, it is our private key (a)\n",
    "        while math.gcd(key, large_number) != 1:\n",
    "            key = random.randint(1, large_number)\n",
    "\n",
    "        h = power(g, key, large_number) #raise g to the power of key modulo large_number (h = g^a variable)\n",
    "        return (h, large_number, g), key #public key is tuple of h, large number and g, private key its number key (gcd(key, q) = 1)\n",
    "\n",
    "    def encrypt_message(self: object, msg: str, h: int, large_number: int, g: int):\n",
    "        \"\"\"Encrypt message\n",
    "        Require message, h = g^a(mod q), q = large number, g = random number\n",
    "        Generate k = random number in range(1, q)\n",
    "        Calculate p = g^k(mod q) will be needed for decryption\n",
    "        Calculate s = h^k(mod q) = g^ak(mod q)\n",
    "        Encrypt ord of message elements by multiplying its by s\n",
    "        Return Encrypted message(list) and p = g^k(mod q)\"\"\"\n",
    "\n",
    "        encrypt = []\n",
    "        k = random.randint(1, large_number) # generate number k, gcd(k, large number) = 1\n",
    "        while math.gcd(k, large_number) != 1:\n",
    "            k = random.randint(1, large_number)\n",
    "\n",
    "        p = power(g, k, large_number) #raise g to the power of k modulo large number (g^k, number to return after encryption)\n",
    "        s = power(h, k, large_number) #raise h to the power of k modulo large number (g^ak, number for encryption)\n",
    "\n",
    "        for elem in msg:\n",
    "            encrypt.append(ord(elem) * s) #multiply ord of each letter element by g^ak\n",
    "\n",
    "        return encrypt, p #return encrypt message(list) and p = g^k\n",
    "\n",
    "    def decrypt_message(self, en_message, p, key, q):\n",
    "        \"\"\"Decrypt message\n",
    "        Require encrypt message, p = g^k(mod q), a(private key), q = large number\n",
    "        Find s = g^ak(mod q) from encryption  and divide all ecrypt elements by it\n",
    "        Return Original message\"\"\"\n",
    "        de_message = []\n",
    "\n",
    "        s = power(p, key, q) #Find s = g^ak from encryption by raising p = g^k to the power of a modulo large number\n",
    "\n",
    "        for elem in en_message:\n",
    "            de_message.append(chr(int(elem / s))) #divide each encrypt element by s = g^ak and find its chr()\n",
    "\n",
    "        return ''.join(de_message)"
   ]
  },
  {
   "cell_type": "code",
   "execution_count": 47,
   "metadata": {},
   "outputs": [
    {
     "name": "stdout",
     "output_type": "stream",
     "text": [
      "private key: 0x79ee51fe53258a64863a26f5ac3b5cd3a2c4da31f9dbd0ab81f041e47126628c\n",
      "public key: 0x94a55e4d63c0059e444de7679a8c0af6ca5a74a47fdfaaa754df5df65f8337fa1\n",
      "ciphertext pubKey: 0x415932537bbca571c347c8e5d6da9638af98da47d6275bb3c6afba983fbc90191\n",
      "encryption key: 0xa49c870acd288f17994b752d4d6e83995904284b23393df403e40eb396ae331f0\n",
      "decryption key: 0xa49c870acd288f17994b752d4d6e83995904284b23393df403e40eb396ae331f0\n"
     ]
    }
   ],
   "source": [
    "from tinyec import registry\n",
    "import secrets\n",
    "\n",
    "curve = registry.get_curve('brainpoolP256r1')\n",
    "\n",
    "def compress_point(point):\n",
    "    return hex(point.x) + hex(point.y % 2)[2:]\n",
    "\n",
    "def ecc_calc_encryption_keys(pubKey):\n",
    "    ciphertextPrivKey = secrets.randbelow(curve.field.n)\n",
    "    ciphertextPubKey = ciphertextPrivKey * curve.g\n",
    "    sharedECCKey = pubKey * ciphertextPrivKey\n",
    "    return (sharedECCKey, ciphertextPubKey)\n",
    "\n",
    "def ecc_calc_decryption_key(privKey, ciphertextPubKey):\n",
    "    sharedECCKey = ciphertextPubKey * privKey\n",
    "    return sharedECCKey\n",
    "\n",
    "privKey = secrets.randbelow(curve.field.n)\n",
    "pubKey = privKey * curve.g\n",
    "print(\"private key:\", hex(privKey))\n",
    "print(\"public key:\", compress_point(pubKey))\n",
    "\n",
    "(encryptKey, ciphertextPubKey) = ecc_calc_encryption_keys(pubKey)\n",
    "print(\"ciphertext pubKey:\", compress_point(ciphertextPubKey))\n",
    "print(\"encryption key:\", compress_point(encryptKey))\n",
    "\n",
    "decryptKey = ecc_calc_decryption_key(privKey, ciphertextPubKey)\n",
    "print(\"decryption key:\", compress_point(decryptKey))"
   ]
  },
  {
   "cell_type": "code",
   "execution_count": 48,
   "metadata": {},
   "outputs": [
    {
     "name": "stdout",
     "output_type": "stream",
     "text": [
      "original msg: b'Text to be encrypted by ECC public key and decrypted by its corresponding ECC private key'\n",
      "encrypted msg: {'ciphertext': b'5932d13877c570f95753fac7f86628bdc24b017a4a5d07362c45ecc90da49e512253bcc6170a99e777654e6a847ae8d82e94361c8308126076158687238a50d6c4fcaa99b7fc1cdec9d8322280746c299c0902403cd3ea1d1d', 'nonce': b'e32ce06766aa6ddf06920ad8c4fc6310', 'authTag': b'c288c5676d8996a9c671980b7f53c491', 'ciphertextPubKey': '0x68ed0215959a592edc1d3fe43a411d4341fe94b8481a5d83aa438bd5b89b0e6e1'}\n",
      "decrypted msg: b'Text to be encrypted by ECC public key and decrypted by its corresponding ECC private key'\n"
     ]
    }
   ],
   "source": [
    "from tinyec import registry\n",
    "from Crypto.Cipher import AES\n",
    "import hashlib, secrets, binascii\n",
    "\n",
    "def encrypt_AES_GCM(msg, secretKey):\n",
    "    aesCipher = AES.new(secretKey, AES.MODE_GCM)\n",
    "    ciphertext, authTag = aesCipher.encrypt_and_digest(msg)\n",
    "    return (ciphertext, aesCipher.nonce, authTag)\n",
    "\n",
    "def decrypt_AES_GCM(ciphertext, nonce, authTag, secretKey):\n",
    "    aesCipher = AES.new(secretKey, AES.MODE_GCM, nonce)\n",
    "    plaintext = aesCipher.decrypt_and_verify(ciphertext, authTag)\n",
    "    return plaintext\n",
    "\n",
    "def ecc_point_to_256_bit_key(point):\n",
    "    sha = hashlib.sha256(int.to_bytes(point.x, 32, 'big'))\n",
    "    sha.update(int.to_bytes(point.y, 32, 'big'))\n",
    "    return sha.digest()\n",
    "\n",
    "curve = registry.get_curve('brainpoolP256r1')\n",
    "\n",
    "def encrypt_ECC(msg, pubKey):\n",
    "    ciphertextPrivKey = secrets.randbelow(curve.field.n)\n",
    "    sharedECCKey = ciphertextPrivKey * pubKey\n",
    "    secretKey = ecc_point_to_256_bit_key(sharedECCKey)\n",
    "    ciphertext, nonce, authTag = encrypt_AES_GCM(msg, secretKey)\n",
    "    ciphertextPubKey = ciphertextPrivKey * curve.g\n",
    "    return (ciphertext, nonce, authTag, ciphertextPubKey)\n",
    "\n",
    "def decrypt_ECC(encryptedMsg, privKey):\n",
    "    (ciphertext, nonce, authTag, ciphertextPubKey) = encryptedMsg\n",
    "    sharedECCKey = privKey * ciphertextPubKey\n",
    "    secretKey = ecc_point_to_256_bit_key(sharedECCKey)\n",
    "    plaintext = decrypt_AES_GCM(ciphertext, nonce, authTag, secretKey)\n",
    "    return plaintext\n",
    "\n",
    "msg = b'Text to be encrypted by ECC public key and ' \\\n",
    "      b'decrypted by its corresponding ECC private key'\n",
    "print(\"original msg:\", msg)\n",
    "privKey = secrets.randbelow(curve.field.n)\n",
    "pubKey = privKey * curve.g\n",
    "\n",
    "encryptedMsg = encrypt_ECC(msg, pubKey)\n",
    "encryptedMsgObj = {\n",
    "    'ciphertext': binascii.hexlify(encryptedMsg[0]),\n",
    "    'nonce': binascii.hexlify(encryptedMsg[1]),\n",
    "    'authTag': binascii.hexlify(encryptedMsg[2]),\n",
    "    'ciphertextPubKey': hex(encryptedMsg[3].x) + hex(encryptedMsg[3].y % 2)[2:]\n",
    "}\n",
    "print(\"encrypted msg:\", encryptedMsgObj)\n",
    "\n",
    "decryptedMsg = decrypt_ECC(encryptedMsg, privKey)\n",
    "print(\"decrypted msg:\", decryptedMsg)"
   ]
  },
  {
   "cell_type": "code",
   "execution_count": 10,
   "metadata": {},
   "outputs": [
    {
     "name": "stdout",
     "output_type": "stream",
     "text": [
      "Key:\n",
      "[1531447, 5209, 1056444, 556872]\n",
      "(\"hello, that's message to test!\", 428, 3781)\n",
      "Changing initial message:\n",
      "(\"hello, that's message to test!\", 428, 3781)\n",
      "Checking if they're the same:\n",
      "True\n"
     ]
    }
   ],
   "source": [
    "dsa = DSA()\n",
    "key = dsa.public\n",
    "print(\"Key:\")\n",
    "print(key)\n",
    "\n",
    "signature = dsa.add_signature(\"hello, that's message to test!\")\n",
    "print(signature)\n",
    "signature = (signature[0], signature[1], signature[2])\n",
    "print(\"Changing initial message:\")\n",
    "print(signature)\n",
    "print(\"Checking if they're the same:\")\n",
    "result = dsa.verify_signature(signature, key)\n",
    "print(result)"
   ]
  },
  {
   "attachments": {},
   "cell_type": "markdown",
   "metadata": {},
   "source": [
    "The main idea here is that we don't crypt the message, we add a special \"signature\" to it. So, if user will change the initial message we will now about it with help of RSA."
   ]
  },
  {
   "attachments": {},
   "cell_type": "markdown",
   "metadata": {},
   "source": [
    "Comparison"
   ]
  },
  {
   "cell_type": "code",
   "execution_count": 57,
   "metadata": {},
   "outputs": [],
   "source": [
    "def to_compare(bits):\n",
    "    NUM_OF_ITERATIONS = 100\n",
    "    time_taken_enc_rsa = 0\n",
    "    time_taken_dec_rsa = 0\n",
    "    time_taken_tot_rsa = 0\n",
    "    time_taken_enc_rabin = 0\n",
    "    time_taken_dec_rabin = 0\n",
    "    time_taken_tot_rabin = 0\n",
    "    time_taken_enc_eig = 0\n",
    "    time_taken_dec_eig = 0\n",
    "    time_taken_tot_eig = 0\n",
    "    # time_taken_enc_rsa = 0\n",
    "    # time_taken_dec_rsa = 0\n",
    "    # time_taken_tot_rsa = 0\n",
    "    message = 'abcdefghijklmnopqrstuvwxyz123456789'\n",
    "    for i in tqdm(range(NUM_OF_ITERATIONS)):\n",
    "        \n",
    "        #RSA time measuring\n",
    "        rsa = RSA(bits)\n",
    "        start_encrypt_rsa = time.time()\n",
    "        encrypt_rsa = rsa.encrypt_message(message)\n",
    "        end_encrypt_rsa = time.time()\n",
    "        start_decrypt_rsa = time.time()\n",
    "        decrypt_rsa = rsa.decrypt_message(encrypt_rsa)\n",
    "        end_decrypt_rsa = time.time()\n",
    "        if message != decrypt_rsa:\n",
    "            print(\"RSA uncorrect decrypt\")\n",
    "        time_taken_enc_rsa += end_encrypt_rsa - start_encrypt_rsa\n",
    "        time_taken_dec_rsa += end_decrypt_rsa - start_decrypt_rsa\n",
    "        time_taken_tot_rsa += end_decrypt_rsa - start_encrypt_rsa\n",
    "\n",
    "\n",
    "        #Rabin time measuring\n",
    "        rabin = RabinCryptography(bits)\n",
    "        start_encrypt_rabin = time.time()\n",
    "        encoded_rabin = rabin.encode(rabin.n_var, message)\n",
    "        end_encrypt_rabin = time.time()\n",
    "        start_decrypt_rabin = time.time()\n",
    "        decoded_rabin = rabin.decode(encoded_rabin)\n",
    "        end_decrypt_rabin = time.time()\n",
    "        if message != decoded_rabin:\n",
    "            print(\"Rabin uncorrect decrypt\")\n",
    "        time_taken_enc_rabin += end_encrypt_rabin - start_encrypt_rabin\n",
    "        time_taken_dec_rabin += end_decrypt_rabin - start_decrypt_rabin\n",
    "        time_taken_tot_rabin += end_decrypt_rabin - start_encrypt_rabin \n",
    "\n",
    "\n",
    "        eig = EIG(bits)\n",
    "        start_encrypt_eig = time.time()\n",
    "        encrypt_eig, p = eig.encrypt_message(message, *eig.get_public())\n",
    "        end_encrypt_eig = time.time()\n",
    "        start_decrypt_eig = time.time()\n",
    "        decrypt_eig = eig.decrypt_message(encrypt_eig, p, eig.get_private(), eig.get_largenumber())\n",
    "        end_decrypt_eig = time.time()\n",
    "        if message != decrypt_eig:\n",
    "            print(\"EIG uncorrect decrypt\")\n",
    "        time_taken_enc_eig += end_encrypt_eig - start_encrypt_eig\n",
    "        time_taken_dec_eig += end_decrypt_eig - start_decrypt_eig\n",
    "        time_taken_tot_eig += end_decrypt_eig - start_encrypt_eig\n",
    "        \n",
    "\n",
    "        \n",
    "        \n",
    "\n",
    "\n",
    "        \n",
    "    return(time_taken_enc_rsa/NUM_OF_ITERATIONS, time_taken_enc_rabin/NUM_OF_ITERATIONS, time_taken_enc_eig/NUM_OF_ITERATIONS),\\\n",
    "(time_taken_dec_rsa/NUM_OF_ITERATIONS, time_taken_dec_rabin/NUM_OF_ITERATIONS, time_taken_dec_eig/NUM_OF_ITERATIONS),\\\n",
    "(time_taken_tot_rsa/NUM_OF_ITERATIONS, time_taken_tot_rabin/NUM_OF_ITERATIONS, time_taken_tot_eig/NUM_OF_ITERATIONS)"
   ]
  },
  {
   "cell_type": "code",
   "execution_count": 58,
   "metadata": {},
   "outputs": [
    {
     "name": "stderr",
     "output_type": "stream",
     "text": [
      "100%|██████████| 100/100 [00:00<00:00, 757.70it/s]\n",
      "100%|██████████| 100/100 [00:00<00:00, 285.69it/s]\n",
      "100%|██████████| 100/100 [00:00<00:00, 109.51it/s]\n",
      "100%|██████████| 100/100 [00:03<00:00, 25.10it/s]\n",
      "100%|██████████| 100/100 [00:29<00:00,  3.34it/s]\n",
      "100%|██████████| 100/100 [03:46<00:00,  2.26s/it]\n"
     ]
    }
   ],
   "source": [
    "bits = [32, 64, 128, 256, 512, 1024]\n",
    "enc_rsa = []\n",
    "enc_rabin = []\n",
    "enc_eig = []\n",
    "dec_rsa = []\n",
    "dec_rabin = []\n",
    "dec_eig = []\n",
    "tot_rsa = []\n",
    "tot_rabin = []\n",
    "tot_eig = []\n",
    "for bit in bits:\n",
    "  enc, dec, tot = to_compare(bit)\n",
    "  enc_rsa.append(enc[0])\n",
    "  enc_rabin.append(enc[1])\n",
    "  enc_eig.append(enc[2])\n",
    "  dec_rsa.append(dec[0])\n",
    "  dec_rabin.append(dec[1])\n",
    "  dec_eig.append(dec[2])\n",
    "  tot_rsa.append(tot[0])\n",
    "  tot_rabin.append(tot[1])\n",
    "  tot_eig.append(tot[2])\n",
    "\n"
   ]
  },
  {
   "cell_type": "code",
   "execution_count": 59,
   "metadata": {},
   "outputs": [
    {
     "data": {
      "text/plain": [
       "<matplotlib.legend.Legend at 0x11a65cb90>"
      ]
     },
     "execution_count": 59,
     "metadata": {},
     "output_type": "execute_result"
    },
    {
     "data": {
      "image/png": "[encoded data removed]",
      "text/plain": [
       "<Figure size 640x480 with 1 Axes>"
      ]
     },
     "metadata": {},
     "output_type": "display_data"
    }
   ],
   "source": [
    "plt.plot(bits, enc_rsa, label ='runtime of RSA encrypt')\n",
    "plt.plot(bits, enc_rabin, label ='runtime of Rabin encrypt')\n",
    "plt.plot(bits, enc_eig, label ='runtime of EIG encrypt')\n",
    "plt.xlabel('Bits in keys')\n",
    "plt.ylabel('avarage code runtime')\n",
    "plt.title(\"Comparison of encrypt runtime RSA, Rabin and EIG algorithms\")\n",
    "plt.legend()"
   ]
  },
  {
   "cell_type": "code",
   "execution_count": 60,
   "metadata": {},
   "outputs": [
    {
     "data": {
      "text/plain": [
       "<matplotlib.legend.Legend at 0x11a6f7b50>"
      ]
     },
     "execution_count": 60,
     "metadata": {},
     "output_type": "execute_result"
    },
    {
     "data": {
      "image/png": "[encoded data removed]",
      "text/plain": [
       "<Figure size 640x480 with 1 Axes>"
      ]
     },
     "metadata": {},
     "output_type": "display_data"
    }
   ],
   "source": [
    "plt.plot(bits, dec_rsa, label ='runtime of RSA decrypt')\n",
    "plt.plot(bits, dec_rabin, label ='runtime of Rabin decrypt')\n",
    "plt.plot(bits, dec_eig, label ='runtime of EIG decrypt')\n",
    "plt.xlabel('Bits in keys')\n",
    "plt.ylabel('avarage code runtime')\n",
    "plt.title(\"Comparison of decrypt runtime RSA, Rabin and EIG algorithms\")\n",
    "plt.legend()"
   ]
  },
  {
   "cell_type": "code",
   "execution_count": 61,
   "metadata": {},
   "outputs": [
    {
     "data": {
      "text/plain": [
       "<matplotlib.legend.Legend at 0x11a7d7150>"
      ]
     },
     "execution_count": 61,
     "metadata": {},
     "output_type": "execute_result"
    },
    {
     "data": {
      "image/png": "[encoded data removed]",
      "text/plain": [
       "<Figure size 640x480 with 1 Axes>"
      ]
     },
     "metadata": {},
     "output_type": "display_data"
    }
   ],
   "source": [
    "plt.plot(bits, tot_rsa, label ='runtime of RSA total')\n",
    "plt.plot(bits, tot_rabin, label ='runtime of Rabin total')\n",
    "plt.plot(bits, tot_eig, label ='runtime of EIG total')\n",
    "plt.xlabel('Bits in keys')\n",
    "plt.ylabel('avarage code runtime')\n",
    "plt.title(\"Comparison of total runtime RSA, Rabin and EIG algorithms\")\n",
    "plt.legend()"
   ]
  }
 ],
 "metadata": {
  "kernelspec": {
   "display_name": "base",
   "language": "python",
   "name": "python3"
  },
  "language_info": {
   "codemirror_mode": {
    "name": "ipython",
    "version": 3
   },
   "file_extension": ".py",
   "mimetype": "text/x-python",
   "name": "python",
   "nbconvert_exporter": "python",
   "pygments_lexer": "ipython3",
   "version": "3.11.3"
  },
  "orig_nbformat": 4
 },
 "nbformat": 4,
 "nbformat_minor": 2
}
